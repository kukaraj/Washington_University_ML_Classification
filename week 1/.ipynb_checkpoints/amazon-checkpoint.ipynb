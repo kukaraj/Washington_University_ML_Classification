{
 "cells": [
  {
   "cell_type": "code",
   "execution_count": 357,
   "metadata": {},
   "outputs": [],
   "source": [
    "import pandas as pd\n",
    "import string\n",
    "import re\n",
    "\n",
    "from sklearn.model_selection import train_test_split\n",
    "from sklearn.feature_extraction.text import CountVectorizer\n",
    "from sklearn.linear_model import LogisticRegression\n",
    "from sklearn.metrics import accuracy_score\n",
    "from sklearn.dummy import DummyClassifier\n",
    "\n",
    "products = pd.read_csv('amazon_baby.csv')"
   ]
  },
  {
   "cell_type": "code",
   "execution_count": 358,
   "metadata": {},
   "outputs": [
    {
     "name": "stdout",
     "output_type": "stream",
     "text": [
      "<class 'pandas.core.frame.DataFrame'>\n",
      "RangeIndex: 183531 entries, 0 to 183530\n",
      "Data columns (total 3 columns):\n",
      "name      183213 non-null object\n",
      "review    182702 non-null object\n",
      "rating    183531 non-null int64\n",
      "dtypes: int64(1), object(2)\n",
      "memory usage: 4.2+ MB\n"
     ]
    }
   ],
   "source": [
    "products.info()"
   ]
  },
  {
   "cell_type": "code",
   "execution_count": 359,
   "metadata": {},
   "outputs": [
    {
     "data": {
      "text/html": [
       "<div>\n",
       "<style scoped>\n",
       "    .dataframe tbody tr th:only-of-type {\n",
       "        vertical-align: middle;\n",
       "    }\n",
       "\n",
       "    .dataframe tbody tr th {\n",
       "        vertical-align: top;\n",
       "    }\n",
       "\n",
       "    .dataframe thead th {\n",
       "        text-align: right;\n",
       "    }\n",
       "</style>\n",
       "<table border=\"1\" class=\"dataframe\">\n",
       "  <thead>\n",
       "    <tr style=\"text-align: right;\">\n",
       "      <th></th>\n",
       "      <th>name</th>\n",
       "      <th>review</th>\n",
       "      <th>rating</th>\n",
       "    </tr>\n",
       "  </thead>\n",
       "  <tbody>\n",
       "    <tr>\n",
       "      <th>98097</th>\n",
       "      <td>GEENNY Musical Mobile For Boutique Airplane Av...</td>\n",
       "      <td>Very cute and easy to put together. Matches we...</td>\n",
       "      <td>4</td>\n",
       "    </tr>\n",
       "    <tr>\n",
       "      <th>108801</th>\n",
       "      <td>Chicco Keyfit 22 Pound Infant Car Seat And Bas...</td>\n",
       "      <td>Overall I'm a fan. The snap'n'go makes this ca...</td>\n",
       "      <td>4</td>\n",
       "    </tr>\n",
       "    <tr>\n",
       "      <th>53687</th>\n",
       "      <td>Medela Medium-Flow Wide Base Nipples (3-Pack/ ...</td>\n",
       "      <td>I ordered this item thinking that it would hav...</td>\n",
       "      <td>4</td>\n",
       "    </tr>\n",
       "    <tr>\n",
       "      <th>79489</th>\n",
       "      <td>Fisher-Price Ocean Wonders Kick and Crawl Gym</td>\n",
       "      <td>I love this product. I saw it an a store but l...</td>\n",
       "      <td>5</td>\n",
       "    </tr>\n",
       "    <tr>\n",
       "      <th>89165</th>\n",
       "      <td>Ergo Baby BCP03405 Performance Carrier With a ...</td>\n",
       "      <td>I finally had the freedom I needed when I got ...</td>\n",
       "      <td>5</td>\n",
       "    </tr>\n",
       "  </tbody>\n",
       "</table>\n",
       "</div>"
      ],
      "text/plain": [
       "                                                     name  \\\n",
       "98097   GEENNY Musical Mobile For Boutique Airplane Av...   \n",
       "108801  Chicco Keyfit 22 Pound Infant Car Seat And Bas...   \n",
       "53687   Medela Medium-Flow Wide Base Nipples (3-Pack/ ...   \n",
       "79489       Fisher-Price Ocean Wonders Kick and Crawl Gym   \n",
       "89165   Ergo Baby BCP03405 Performance Carrier With a ...   \n",
       "\n",
       "                                                   review  rating  \n",
       "98097   Very cute and easy to put together. Matches we...       4  \n",
       "108801  Overall I'm a fan. The snap'n'go makes this ca...       4  \n",
       "53687   I ordered this item thinking that it would hav...       4  \n",
       "79489   I love this product. I saw it an a store but l...       5  \n",
       "89165   I finally had the freedom I needed when I got ...       5  "
      ]
     },
     "execution_count": 359,
     "metadata": {},
     "output_type": "execute_result"
    }
   ],
   "source": [
    "products.sample(5)"
   ]
  },
  {
   "cell_type": "code",
   "execution_count": 360,
   "metadata": {},
   "outputs": [],
   "source": [
    "def remove_punctuation(text):\n",
    "    return re.sub(r'[^\\w\\s]','',text)"
   ]
  },
  {
   "cell_type": "code",
   "execution_count": 361,
   "metadata": {},
   "outputs": [],
   "source": [
    "products = products.fillna({'review':''})\n",
    "products['review_clean'] = products['review'].apply(remove_punctuation)"
   ]
  },
  {
   "cell_type": "code",
   "execution_count": 362,
   "metadata": {
    "scrolled": true
   },
   "outputs": [
    {
     "data": {
      "text/html": [
       "<div>\n",
       "<style scoped>\n",
       "    .dataframe tbody tr th:only-of-type {\n",
       "        vertical-align: middle;\n",
       "    }\n",
       "\n",
       "    .dataframe tbody tr th {\n",
       "        vertical-align: top;\n",
       "    }\n",
       "\n",
       "    .dataframe thead th {\n",
       "        text-align: right;\n",
       "    }\n",
       "</style>\n",
       "<table border=\"1\" class=\"dataframe\">\n",
       "  <thead>\n",
       "    <tr style=\"text-align: right;\">\n",
       "      <th></th>\n",
       "      <th>name</th>\n",
       "      <th>review</th>\n",
       "      <th>rating</th>\n",
       "      <th>review_clean</th>\n",
       "    </tr>\n",
       "  </thead>\n",
       "  <tbody>\n",
       "    <tr>\n",
       "      <th>10320</th>\n",
       "      <td>Snugli Front and Backpack Carrier</td>\n",
       "      <td>I had purchased the old Snugli back in Dec of ...</td>\n",
       "      <td>5</td>\n",
       "      <td>I had purchased the old Snugli back in Dec of ...</td>\n",
       "    </tr>\n",
       "    <tr>\n",
       "      <th>140126</th>\n",
       "      <td>[Award Winning] Kidsme Food Feeder (Large size)</td>\n",
       "      <td>I purchased this based on the reviews and the ...</td>\n",
       "      <td>3</td>\n",
       "      <td>I purchased this based on the reviews and the ...</td>\n",
       "    </tr>\n",
       "    <tr>\n",
       "      <th>165218</th>\n",
       "      <td>Dreambaby Soft Potty Seat - Blue</td>\n",
       "      <td>My 2 year old took interest immediately. He sa...</td>\n",
       "      <td>5</td>\n",
       "      <td>My 2 year old took interest immediately He saw...</td>\n",
       "    </tr>\n",
       "  </tbody>\n",
       "</table>\n",
       "</div>"
      ],
      "text/plain": [
       "                                                   name  \\\n",
       "10320                 Snugli Front and Backpack Carrier   \n",
       "140126  [Award Winning] Kidsme Food Feeder (Large size)   \n",
       "165218                 Dreambaby Soft Potty Seat - Blue   \n",
       "\n",
       "                                                   review  rating  \\\n",
       "10320   I had purchased the old Snugli back in Dec of ...       5   \n",
       "140126  I purchased this based on the reviews and the ...       3   \n",
       "165218  My 2 year old took interest immediately. He sa...       5   \n",
       "\n",
       "                                             review_clean  \n",
       "10320   I had purchased the old Snugli back in Dec of ...  \n",
       "140126  I purchased this based on the reviews and the ...  \n",
       "165218  My 2 year old took interest immediately He saw...  "
      ]
     },
     "execution_count": 362,
     "metadata": {},
     "output_type": "execute_result"
    }
   ],
   "source": [
    "products.sample(3)"
   ]
  },
  {
   "cell_type": "code",
   "execution_count": 363,
   "metadata": {},
   "outputs": [],
   "source": [
    "products = products[products['rating'] != 3]"
   ]
  },
  {
   "cell_type": "code",
   "execution_count": 364,
   "metadata": {},
   "outputs": [],
   "source": [
    "products['sentiment'] = products['rating'].apply(lambda rating: 1 if rating > 3 else -1)"
   ]
  },
  {
   "cell_type": "code",
   "execution_count": 365,
   "metadata": {},
   "outputs": [],
   "source": [
    "X = pd.DataFrame(products['review_clean'])\n",
    "Y = pd.DataFrame(products['sentiment'])"
   ]
  },
  {
   "cell_type": "code",
   "execution_count": 366,
   "metadata": {},
   "outputs": [],
   "source": [
    "train_data, test_data = train_test_split(products, test_size=0.20, random_state=1)"
   ]
  },
  {
   "cell_type": "code",
   "execution_count": 367,
   "metadata": {},
   "outputs": [],
   "source": [
    "vectorizer = CountVectorizer(token_pattern=r'\\b\\w+\\b')\n",
    "     # Use this token pattern to keep single-letter words\n",
    "# First, learn vocabulary from the training data and assign columns to words\n",
    "# Then convert the training data into a sparse matrix\n",
    "train_matrix = vectorizer.fit_transform(train_data['review_clean'])\n",
    "# Second, convert the test data into a sparse matrix, using the same word-column mapping\n",
    "test_matrix = vectorizer.transform(test_data['review_clean'])"
   ]
  },
  {
   "cell_type": "code",
   "execution_count": 368,
   "metadata": {},
   "outputs": [
    {
     "data": {
      "text/plain": [
       "<133401x121534 sparse matrix of type '<class 'numpy.int64'>'\n",
       "\twith 7325477 stored elements in Compressed Sparse Row format>"
      ]
     },
     "execution_count": 368,
     "metadata": {},
     "output_type": "execute_result"
    }
   ],
   "source": [
    "train_matrix"
   ]
  },
  {
   "cell_type": "code",
   "execution_count": 369,
   "metadata": {},
   "outputs": [],
   "source": [
    "X_train = train_matrix"
   ]
  },
  {
   "cell_type": "code",
   "execution_count": 370,
   "metadata": {},
   "outputs": [],
   "source": [
    "Y_train = train_data['sentiment']"
   ]
  },
  {
   "cell_type": "code",
   "execution_count": 371,
   "metadata": {},
   "outputs": [
    {
     "data": {
      "text/plain": [
       "LogisticRegression(C=1.0, class_weight=None, dual=False, fit_intercept=True,\n",
       "          intercept_scaling=1, max_iter=100, multi_class='warn',\n",
       "          n_jobs=None, penalty='l2', random_state=1, solver='warn',\n",
       "          tol=0.0001, verbose=0, warm_start=False)"
      ]
     },
     "execution_count": 371,
     "metadata": {},
     "output_type": "execute_result"
    }
   ],
   "source": [
    "sentiment_model = LogisticRegression(random_state=1)\n",
    "sentiment_model.fit(X_train, Y_train)"
   ]
  },
  {
   "cell_type": "code",
   "execution_count": 372,
   "metadata": {},
   "outputs": [
    {
     "name": "stdout",
     "output_type": "stream",
     "text": [
      "[[-1.24694112e+00  8.20351005e-04 -6.80556094e-03 ...  1.04013270e-02\n",
      "   8.83219867e-03 -5.89207195e-05]]\n"
     ]
    }
   ],
   "source": [
    "print(sentiment_model.coef_)"
   ]
  },
  {
   "cell_type": "code",
   "execution_count": 373,
   "metadata": {},
   "outputs": [
    {
     "data": {
      "text/plain": [
       "85698"
      ]
     },
     "execution_count": 373,
     "metadata": {},
     "output_type": "execute_result"
    }
   ],
   "source": [
    "(sentiment_model.coef_ >= 0).sum()"
   ]
  },
  {
   "cell_type": "code",
   "execution_count": 374,
   "metadata": {
    "scrolled": false
   },
   "outputs": [
    {
     "name": "stdout",
     "output_type": "stream",
     "text": [
      "                                                     name  \\\n",
      "117165       Lassig Glam Small Messenger Diaper Bag ,navy   \n",
      "30667   BOB Weather Shield for Single Revolution/Strol...   \n",
      "60268                Tiny Love Sweet Island Dreams Mobile   \n",
      "\n",
      "                                                   review  rating  \\\n",
      "117165  While I'm sure this bag is a wonderful diaper ...       5   \n",
      "30667   This weather shield has been a great accessory...       5   \n",
      "60268   And we managed to get it to attach to the Grac...       5   \n",
      "\n",
      "                                             review_clean  sentiment  \n",
      "117165  While Im sure this bag is a wonderful diaper b...          1  \n",
      "30667   This weather shield has been a great accessory...          1  \n",
      "60268   And we managed to get it to attach to the Grac...          1  \n"
     ]
    }
   ],
   "source": [
    "sample_test_data = test_data[10:13]\n",
    "print(sample_test_data)"
   ]
  },
  {
   "cell_type": "code",
   "execution_count": 375,
   "metadata": {
    "scrolled": false
   },
   "outputs": [
    {
     "data": {
      "text/plain": [
       "\"While I'm sure this bag is a wonderful diaper bag, I purchased it for traveling purposes.  It's just the right size and doesn't look like a traditional diaper bag at all.  Great pockets - inside and out; easy access to everything I need when I need it.  Love this bag!  I originally bought the navy and have since purchased it in brown and black.\""
      ]
     },
     "execution_count": 375,
     "metadata": {},
     "output_type": "execute_result"
    }
   ],
   "source": [
    "sample_test_data.iloc[0]['review']"
   ]
  },
  {
   "cell_type": "code",
   "execution_count": 376,
   "metadata": {},
   "outputs": [
    {
     "data": {
      "text/plain": [
       "'This weather shield has been a great accessory.  It is a little cumbersome at first to put it on the stroller but after the first time it has been very easy.The shield definitely keeps my little girl warm during the windy days with out needing to tuck a blanket around her. Also, dry during the rainy ones.The full-body window provides me with the ability to see that she is buckled up safely at any time during the walk.  It enables her to see things just about as well as when the shield is off.The yellow color is definitely a color contrast to our navy colored stroller but it sure makes us visible to oncoming vehicles.Construction appears to be very good. The material reminds me of a very duty plastic tarp (not like the cheap ones you find at the big discount retailers).  I would imagine this would be repairable with a inner tube patch kit or clear adhesive caulk for the window if it ever needed it.I would definitely purchase this again.'"
      ]
     },
     "execution_count": 376,
     "metadata": {},
     "output_type": "execute_result"
    }
   ],
   "source": [
    "sample_test_data.iloc[1]['review']"
   ]
  },
  {
   "cell_type": "code",
   "execution_count": 377,
   "metadata": {},
   "outputs": [
    {
     "name": "stdout",
     "output_type": "stream",
     "text": [
      "[ 7.9568419  11.11529274  1.13462755]\n"
     ]
    }
   ],
   "source": [
    "sample_test_matrix = vectorizer.transform(sample_test_data['review_clean'])\n",
    "scores = sentiment_model.decision_function(sample_test_matrix)\n",
    "print(scores)"
   ]
  },
  {
   "cell_type": "code",
   "execution_count": 378,
   "metadata": {},
   "outputs": [],
   "source": [
    "Y_sample_predict = sentiment_model.predict(sample_test_matrix)"
   ]
  },
  {
   "cell_type": "code",
   "execution_count": 379,
   "metadata": {},
   "outputs": [
    {
     "data": {
      "text/plain": [
       "array([1, 1, 1], dtype=int64)"
      ]
     },
     "execution_count": 379,
     "metadata": {},
     "output_type": "execute_result"
    }
   ],
   "source": [
    "Y_sample_predict"
   ]
  },
  {
   "cell_type": "code",
   "execution_count": 380,
   "metadata": {},
   "outputs": [
    {
     "name": "stdout",
     "output_type": "stream",
     "text": [
      "[[3.50134883e-04 9.99649865e-01]\n",
      " [1.48827516e-05 9.99985117e-01]\n",
      " [2.43308114e-01 7.56691886e-01]]\n"
     ]
    }
   ],
   "source": [
    "Y_probability = sentiment_model.predict_proba(sample_test_matrix)\n",
    "print(Y_probability)"
   ]
  },
  {
   "cell_type": "code",
   "execution_count": 381,
   "metadata": {},
   "outputs": [
    {
     "name": "stdout",
     "output_type": "stream",
     "text": [
      "[1 1 1 ... 1 1 1]\n"
     ]
    }
   ],
   "source": [
    "Y_test_predict = sentiment_model.predict(test_matrix)\n",
    "print(Y_test_predict)"
   ]
  },
  {
   "cell_type": "code",
   "execution_count": 382,
   "metadata": {},
   "outputs": [
    {
     "name": "stdout",
     "output_type": "stream",
     "text": [
      "[[7.90740806e-02 9.20925919e-01]\n",
      " [3.12654823e-03 9.96873452e-01]\n",
      " [2.21623964e-03 9.97783760e-01]\n",
      " ...\n",
      " [1.21906461e-04 9.99878094e-01]\n",
      " [1.31562302e-07 9.99999868e-01]\n",
      " [1.17852999e-02 9.88214700e-01]]\n"
     ]
    }
   ],
   "source": [
    "Y_test_probability = sentiment_model.predict_proba(test_matrix)\n",
    "print(Y_test_probability)"
   ]
  },
  {
   "cell_type": "code",
   "execution_count": 383,
   "metadata": {},
   "outputs": [],
   "source": [
    "positive = pd.DataFrame(Y_test_probability).sort_values(by=1, ascending=False)"
   ]
  },
  {
   "cell_type": "code",
   "execution_count": 384,
   "metadata": {
    "scrolled": false
   },
   "outputs": [],
   "source": [
    "negative = pd.DataFrame(Y_test_probability).sort_values(by=0, ascending=False)"
   ]
  },
  {
   "cell_type": "code",
   "execution_count": 385,
   "metadata": {},
   "outputs": [
    {
     "name": "stdout",
     "output_type": "stream",
     "text": [
      "0.9317261851218854\n"
     ]
    }
   ],
   "source": [
    "accuracy = accuracy_score(test_data['sentiment'], Y_test_predict)\n",
    "print(accuracy)"
   ]
  },
  {
   "cell_type": "code",
   "execution_count": 386,
   "metadata": {},
   "outputs": [],
   "source": [
    "Y_train_predict = sentiment_model.predict(train_matrix)"
   ]
  },
  {
   "cell_type": "code",
   "execution_count": 387,
   "metadata": {},
   "outputs": [
    {
     "name": "stdout",
     "output_type": "stream",
     "text": [
      "0.9683660542274796\n"
     ]
    }
   ],
   "source": [
    "accuracy_train = accuracy_score(train_data['sentiment'], Y_train_predict)\n",
    "print(accuracy_train)"
   ]
  },
  {
   "cell_type": "code",
   "execution_count": 388,
   "metadata": {},
   "outputs": [],
   "source": [
    "significant_words = ['love', 'great', 'easy', 'old', 'little', 'perfect', 'loves', \n",
    "      'well', 'able', 'car', 'broke', 'less', 'even', 'waste', 'disappointed', \n",
    "      'work', 'product', 'money', 'would', 'return']"
   ]
  },
  {
   "cell_type": "code",
   "execution_count": 389,
   "metadata": {},
   "outputs": [],
   "source": [
    "vectorizer_word_subset = CountVectorizer(vocabulary=significant_words) # limit to 20 words\n",
    "train_matrix_word_subset = vectorizer_word_subset.fit_transform(train_data['review_clean'])\n",
    "test_matrix_word_subset = vectorizer_word_subset.transform(test_data['review_clean'])"
   ]
  },
  {
   "cell_type": "code",
   "execution_count": 390,
   "metadata": {},
   "outputs": [
    {
     "data": {
      "text/plain": [
       "LogisticRegression(C=1.0, class_weight=None, dual=False, fit_intercept=True,\n",
       "          intercept_scaling=1, max_iter=100, multi_class='warn',\n",
       "          n_jobs=None, penalty='l2', random_state=0, solver='warn',\n",
       "          tol=0.0001, verbose=0, warm_start=False)"
      ]
     },
     "execution_count": 390,
     "metadata": {},
     "output_type": "execute_result"
    }
   ],
   "source": [
    "simple_model = LogisticRegression(random_state=0)\n",
    "simple_model.fit(train_matrix_word_subset, Y_train)"
   ]
  },
  {
   "cell_type": "code",
   "execution_count": 391,
   "metadata": {},
   "outputs": [],
   "source": [
    "simple_model_coef_table = pd.DataFrame({'word':significant_words,\n",
    "                                         'coefficient':simple_model.coef_.flatten()})"
   ]
  },
  {
   "cell_type": "code",
   "execution_count": 392,
   "metadata": {},
   "outputs": [
    {
     "data": {
      "text/html": [
       "<div>\n",
       "<style scoped>\n",
       "    .dataframe tbody tr th:only-of-type {\n",
       "        vertical-align: middle;\n",
       "    }\n",
       "\n",
       "    .dataframe tbody tr th {\n",
       "        vertical-align: top;\n",
       "    }\n",
       "\n",
       "    .dataframe thead th {\n",
       "        text-align: right;\n",
       "    }\n",
       "</style>\n",
       "<table border=\"1\" class=\"dataframe\">\n",
       "  <thead>\n",
       "    <tr style=\"text-align: right;\">\n",
       "      <th></th>\n",
       "      <th>word</th>\n",
       "      <th>coefficient</th>\n",
       "    </tr>\n",
       "  </thead>\n",
       "  <tbody>\n",
       "    <tr>\n",
       "      <th>6</th>\n",
       "      <td>loves</td>\n",
       "      <td>1.730101</td>\n",
       "    </tr>\n",
       "    <tr>\n",
       "      <th>5</th>\n",
       "      <td>perfect</td>\n",
       "      <td>1.520583</td>\n",
       "    </tr>\n",
       "    <tr>\n",
       "      <th>0</th>\n",
       "      <td>love</td>\n",
       "      <td>1.358388</td>\n",
       "    </tr>\n",
       "    <tr>\n",
       "      <th>2</th>\n",
       "      <td>easy</td>\n",
       "      <td>1.172422</td>\n",
       "    </tr>\n",
       "    <tr>\n",
       "      <th>1</th>\n",
       "      <td>great</td>\n",
       "      <td>0.953138</td>\n",
       "    </tr>\n",
       "    <tr>\n",
       "      <th>7</th>\n",
       "      <td>well</td>\n",
       "      <td>0.516279</td>\n",
       "    </tr>\n",
       "    <tr>\n",
       "      <th>4</th>\n",
       "      <td>little</td>\n",
       "      <td>0.486670</td>\n",
       "    </tr>\n",
       "    <tr>\n",
       "      <th>8</th>\n",
       "      <td>able</td>\n",
       "      <td>0.208226</td>\n",
       "    </tr>\n",
       "    <tr>\n",
       "      <th>3</th>\n",
       "      <td>old</td>\n",
       "      <td>0.092202</td>\n",
       "    </tr>\n",
       "    <tr>\n",
       "      <th>9</th>\n",
       "      <td>car</td>\n",
       "      <td>0.062287</td>\n",
       "    </tr>\n",
       "    <tr>\n",
       "      <th>11</th>\n",
       "      <td>less</td>\n",
       "      <td>-0.157199</td>\n",
       "    </tr>\n",
       "    <tr>\n",
       "      <th>16</th>\n",
       "      <td>product</td>\n",
       "      <td>-0.311008</td>\n",
       "    </tr>\n",
       "    <tr>\n",
       "      <th>18</th>\n",
       "      <td>would</td>\n",
       "      <td>-0.328955</td>\n",
       "    </tr>\n",
       "    <tr>\n",
       "      <th>12</th>\n",
       "      <td>even</td>\n",
       "      <td>-0.536863</td>\n",
       "    </tr>\n",
       "    <tr>\n",
       "      <th>15</th>\n",
       "      <td>work</td>\n",
       "      <td>-0.652401</td>\n",
       "    </tr>\n",
       "    <tr>\n",
       "      <th>17</th>\n",
       "      <td>money</td>\n",
       "      <td>-0.901153</td>\n",
       "    </tr>\n",
       "    <tr>\n",
       "      <th>10</th>\n",
       "      <td>broke</td>\n",
       "      <td>-1.711417</td>\n",
       "    </tr>\n",
       "    <tr>\n",
       "      <th>19</th>\n",
       "      <td>return</td>\n",
       "      <td>-2.066739</td>\n",
       "    </tr>\n",
       "    <tr>\n",
       "      <th>13</th>\n",
       "      <td>waste</td>\n",
       "      <td>-2.082077</td>\n",
       "    </tr>\n",
       "    <tr>\n",
       "      <th>14</th>\n",
       "      <td>disappointed</td>\n",
       "      <td>-2.318348</td>\n",
       "    </tr>\n",
       "  </tbody>\n",
       "</table>\n",
       "</div>"
      ],
      "text/plain": [
       "            word  coefficient\n",
       "6          loves     1.730101\n",
       "5        perfect     1.520583\n",
       "0           love     1.358388\n",
       "2           easy     1.172422\n",
       "1          great     0.953138\n",
       "7           well     0.516279\n",
       "4         little     0.486670\n",
       "8           able     0.208226\n",
       "3            old     0.092202\n",
       "9            car     0.062287\n",
       "11          less    -0.157199\n",
       "16       product    -0.311008\n",
       "18         would    -0.328955\n",
       "12          even    -0.536863\n",
       "15          work    -0.652401\n",
       "17         money    -0.901153\n",
       "10         broke    -1.711417\n",
       "19        return    -2.066739\n",
       "13         waste    -2.082077\n",
       "14  disappointed    -2.318348"
      ]
     },
     "execution_count": 392,
     "metadata": {},
     "output_type": "execute_result"
    }
   ],
   "source": [
    "simple_model_coef_table.sort_values(by='coefficient', ascending=False)"
   ]
  },
  {
   "cell_type": "code",
   "execution_count": 393,
   "metadata": {},
   "outputs": [],
   "source": [
    "Y_test_predict_simple = simple_model.predict(test_matrix_word_subset)"
   ]
  },
  {
   "cell_type": "code",
   "execution_count": 394,
   "metadata": {},
   "outputs": [
    {
     "name": "stdout",
     "output_type": "stream",
     "text": [
      "0.8672003837965878\n"
     ]
    }
   ],
   "source": [
    "accuracy_simple_test = accuracy_score(test_data['sentiment'], Y_test_predict_simple)\n",
    "print(accuracy_simple_test)"
   ]
  },
  {
   "cell_type": "code",
   "execution_count": 395,
   "metadata": {},
   "outputs": [],
   "source": [
    "Y_train_predict_simple = simple_model.predict(train_matrix_word_subset)"
   ]
  },
  {
   "cell_type": "code",
   "execution_count": 396,
   "metadata": {},
   "outputs": [
    {
     "name": "stdout",
     "output_type": "stream",
     "text": [
      "0.867114939168372\n"
     ]
    }
   ],
   "source": [
    "accuracy_simple_train = accuracy_score(train_data['sentiment'], Y_train_predict_simple)\n",
    "print(accuracy_simple_train)"
   ]
  },
  {
   "cell_type": "code",
   "execution_count": 397,
   "metadata": {},
   "outputs": [
    {
     "data": {
      "text/plain": [
       "DummyClassifier(constant=None, random_state=None, strategy='stratified')"
      ]
     },
     "execution_count": 397,
     "metadata": {},
     "output_type": "execute_result"
    }
   ],
   "source": [
    "base_model = DummyClassifier()\n",
    "base_model.fit(train_matrix, Y_train)"
   ]
  },
  {
   "cell_type": "code",
   "execution_count": 398,
   "metadata": {},
   "outputs": [],
   "source": [
    "Y_base_model_predict = base_model.predict(test_matrix)"
   ]
  },
  {
   "cell_type": "code",
   "execution_count": 399,
   "metadata": {},
   "outputs": [
    {
     "name": "stdout",
     "output_type": "stream",
     "text": [
      "0.7355701478216545\n"
     ]
    }
   ],
   "source": [
    "accuracy_base_model = accuracy_score(test_data['sentiment'], Y_base_model_predict)\n",
    "print(accuracy_base_model)"
   ]
  },
  {
   "cell_type": "code",
   "execution_count": 400,
   "metadata": {
    "scrolled": false
   },
   "outputs": [
    {
     "data": {
      "text/html": [
       "<div>\n",
       "<style scoped>\n",
       "    .dataframe tbody tr th:only-of-type {\n",
       "        vertical-align: middle;\n",
       "    }\n",
       "\n",
       "    .dataframe tbody tr th {\n",
       "        vertical-align: top;\n",
       "    }\n",
       "\n",
       "    .dataframe thead th {\n",
       "        text-align: right;\n",
       "    }\n",
       "</style>\n",
       "<table border=\"1\" class=\"dataframe\">\n",
       "  <thead>\n",
       "    <tr style=\"text-align: right;\">\n",
       "      <th></th>\n",
       "      <th>name</th>\n",
       "      <th>review</th>\n",
       "      <th>rating</th>\n",
       "      <th>review_clean</th>\n",
       "      <th>sentiment</th>\n",
       "    </tr>\n",
       "  </thead>\n",
       "  <tbody>\n",
       "    <tr>\n",
       "      <th>179871</th>\n",
       "      <td>Thirsties Diaper Cover with Hook and Loop, Aqu...</td>\n",
       "      <td>The Thirsties are really an awesome concept th...</td>\n",
       "      <td>5</td>\n",
       "      <td>The Thirsties are really an awesome concept th...</td>\n",
       "      <td>1</td>\n",
       "    </tr>\n",
       "    <tr>\n",
       "      <th>125408</th>\n",
       "      <td>UPPAbaby G-Luxe Stroller, Jake/Black</td>\n",
       "      <td>UPDATE: 2.5 years in and we still love it.  We...</td>\n",
       "      <td>5</td>\n",
       "      <td>UPDATE 25 years in and we still love it  We ha...</td>\n",
       "      <td>1</td>\n",
       "    </tr>\n",
       "    <tr>\n",
       "      <th>60298</th>\n",
       "      <td>Ju-Ju-Be Be Right Back Backpack Diaper Bag, Bl...</td>\n",
       "      <td>This review is going to compare 3 Ju-Ju-Be bag...</td>\n",
       "      <td>5</td>\n",
       "      <td>This review is going to compare 3 JuJuBe bags ...</td>\n",
       "      <td>1</td>\n",
       "    </tr>\n",
       "    <tr>\n",
       "      <th>162687</th>\n",
       "      <td>Joovy Caboose Too Rear Seat, Greenie</td>\n",
       "      <td>We are thrilled with this rear seat. This litt...</td>\n",
       "      <td>5</td>\n",
       "      <td>We are thrilled with this rear seat This littl...</td>\n",
       "      <td>1</td>\n",
       "    </tr>\n",
       "    <tr>\n",
       "      <th>86800</th>\n",
       "      <td>Baby Jogger 2010 City Mini Single Stroller, Bl...</td>\n",
       "      <td>i love this stroller. It took 4 months researc...</td>\n",
       "      <td>5</td>\n",
       "      <td>i love this stroller It took 4 months research...</td>\n",
       "      <td>1</td>\n",
       "    </tr>\n",
       "    <tr>\n",
       "      <th>66059</th>\n",
       "      <td>Evenflo 6 Pack Classic Glass Bottle, 4-Ounce</td>\n",
       "      <td>It's always fun to write a review on those pro...</td>\n",
       "      <td>5</td>\n",
       "      <td>Its always fun to write a review on those prod...</td>\n",
       "      <td>1</td>\n",
       "    </tr>\n",
       "    <tr>\n",
       "      <th>73725</th>\n",
       "      <td>Chicco Cortina Keyfit 30 Travel System, Miro</td>\n",
       "      <td>UPDATE 11/20/13 - I went ahead and used a tiny...</td>\n",
       "      <td>4</td>\n",
       "      <td>UPDATE 112013  I went ahead and used a tiny bi...</td>\n",
       "      <td>1</td>\n",
       "    </tr>\n",
       "    <tr>\n",
       "      <th>93170</th>\n",
       "      <td>Contours Options Tandem II Stroller, Tangerine</td>\n",
       "      <td>We have 7 month old twins, and have used it si...</td>\n",
       "      <td>5</td>\n",
       "      <td>We have 7 month old twins and have used it sin...</td>\n",
       "      <td>1</td>\n",
       "    </tr>\n",
       "    <tr>\n",
       "      <th>172946</th>\n",
       "      <td>Spectra Baby USA S2 Hospital Grade Double/sing...</td>\n",
       "      <td>Long Review but worth the read for those who a...</td>\n",
       "      <td>5</td>\n",
       "      <td>Long Review but worth the read for those who a...</td>\n",
       "      <td>1</td>\n",
       "    </tr>\n",
       "    <tr>\n",
       "      <th>111120</th>\n",
       "      <td>Gocrib Portable Baby Travel Crib and Play Yard</td>\n",
       "      <td>My husband says one should be skeptical of 5 s...</td>\n",
       "      <td>5</td>\n",
       "      <td>My husband says one should be skeptical of 5 s...</td>\n",
       "      <td>1</td>\n",
       "    </tr>\n",
       "    <tr>\n",
       "      <th>93690</th>\n",
       "      <td>The First Years Ignite Stroller</td>\n",
       "      <td>The last thing we wanted was to purchase more ...</td>\n",
       "      <td>5</td>\n",
       "      <td>The last thing we wanted was to purchase more ...</td>\n",
       "      <td>1</td>\n",
       "    </tr>\n",
       "    <tr>\n",
       "      <th>147949</th>\n",
       "      <td>Baby Jogger City Mini GT Single Stroller, Shad...</td>\n",
       "      <td>Amazing, Love, Love, Love it !!! All 5 STARS a...</td>\n",
       "      <td>5</td>\n",
       "      <td>Amazing Love Love Love it  All 5 STARS all the...</td>\n",
       "      <td>1</td>\n",
       "    </tr>\n",
       "    <tr>\n",
       "      <th>176040</th>\n",
       "      <td>Twist Breastfeeding Gift Set</td>\n",
       "      <td>I went back to work full time just six weeks a...</td>\n",
       "      <td>5</td>\n",
       "      <td>I went back to work full time just six weeks a...</td>\n",
       "      <td>1</td>\n",
       "    </tr>\n",
       "    <tr>\n",
       "      <th>137655</th>\n",
       "      <td>Covillow Breastfeeding Cover and Pillow-In-One...</td>\n",
       "      <td>If I could give this nursing cover 10 stars I ...</td>\n",
       "      <td>5</td>\n",
       "      <td>If I could give this nursing cover 10 stars I ...</td>\n",
       "      <td>1</td>\n",
       "    </tr>\n",
       "    <tr>\n",
       "      <th>127831</th>\n",
       "      <td>Mountain Buggy Duet Double Buggy Stroller, Bla...</td>\n",
       "      <td>My local BRU had only 15 strollers to look at ...</td>\n",
       "      <td>5</td>\n",
       "      <td>My local BRU had only 15 strollers to look at ...</td>\n",
       "      <td>1</td>\n",
       "    </tr>\n",
       "    <tr>\n",
       "      <th>119182</th>\n",
       "      <td>Roan Rocco Classic Pram Stroller 2-in-1 with B...</td>\n",
       "      <td>Great Pram Rocco!!!!!!I bought this pram from ...</td>\n",
       "      <td>5</td>\n",
       "      <td>Great Pram RoccoI bought this pram from Europe...</td>\n",
       "      <td>1</td>\n",
       "    </tr>\n",
       "    <tr>\n",
       "      <th>69455</th>\n",
       "      <td>Dr. Brown's BPA Free Polypropylene Natural Flo...</td>\n",
       "      <td>We have been using these Dr. Brown's bottles f...</td>\n",
       "      <td>5</td>\n",
       "      <td>We have been using these Dr Browns bottles for...</td>\n",
       "      <td>1</td>\n",
       "    </tr>\n",
       "    <tr>\n",
       "      <th>76549</th>\n",
       "      <td>Britax Advocate 65 CS Click &amp;amp; Safe Convert...</td>\n",
       "      <td>The Britax Advocate CS appears similar to the ...</td>\n",
       "      <td>4</td>\n",
       "      <td>The Britax Advocate CS appears similar to the ...</td>\n",
       "      <td>1</td>\n",
       "    </tr>\n",
       "    <tr>\n",
       "      <th>158209</th>\n",
       "      <td>Ubbi Cloth Diaper Pail Liner</td>\n",
       "      <td>(updated 3.22.13) After extensive research, tr...</td>\n",
       "      <td>5</td>\n",
       "      <td>updated 32213 After extensive research trial a...</td>\n",
       "      <td>1</td>\n",
       "    </tr>\n",
       "    <tr>\n",
       "      <th>103297</th>\n",
       "      <td>Chicco Cortina Together Double Stroller, Fuego</td>\n",
       "      <td>I was very excited when I heard Chicco was fin...</td>\n",
       "      <td>5</td>\n",
       "      <td>I was very excited when I heard Chicco was fin...</td>\n",
       "      <td>1</td>\n",
       "    </tr>\n",
       "    <tr>\n",
       "      <th>41763</th>\n",
       "      <td>Kolcraft Contours Lite Stroller Plus with iPod...</td>\n",
       "      <td>After considering several lightweight stroller...</td>\n",
       "      <td>4</td>\n",
       "      <td>After considering several lightweight stroller...</td>\n",
       "      <td>1</td>\n",
       "    </tr>\n",
       "  </tbody>\n",
       "</table>\n",
       "</div>"
      ],
      "text/plain": [
       "                                                     name  \\\n",
       "179871  Thirsties Diaper Cover with Hook and Loop, Aqu...   \n",
       "125408               UPPAbaby G-Luxe Stroller, Jake/Black   \n",
       "60298   Ju-Ju-Be Be Right Back Backpack Diaper Bag, Bl...   \n",
       "162687               Joovy Caboose Too Rear Seat, Greenie   \n",
       "86800   Baby Jogger 2010 City Mini Single Stroller, Bl...   \n",
       "66059        Evenflo 6 Pack Classic Glass Bottle, 4-Ounce   \n",
       "73725        Chicco Cortina Keyfit 30 Travel System, Miro   \n",
       "93170      Contours Options Tandem II Stroller, Tangerine   \n",
       "172946  Spectra Baby USA S2 Hospital Grade Double/sing...   \n",
       "111120     Gocrib Portable Baby Travel Crib and Play Yard   \n",
       "93690                     The First Years Ignite Stroller   \n",
       "147949  Baby Jogger City Mini GT Single Stroller, Shad...   \n",
       "176040                       Twist Breastfeeding Gift Set   \n",
       "137655  Covillow Breastfeeding Cover and Pillow-In-One...   \n",
       "127831  Mountain Buggy Duet Double Buggy Stroller, Bla...   \n",
       "119182  Roan Rocco Classic Pram Stroller 2-in-1 with B...   \n",
       "69455   Dr. Brown's BPA Free Polypropylene Natural Flo...   \n",
       "76549   Britax Advocate 65 CS Click &amp; Safe Convert...   \n",
       "158209                       Ubbi Cloth Diaper Pail Liner   \n",
       "103297     Chicco Cortina Together Double Stroller, Fuego   \n",
       "41763   Kolcraft Contours Lite Stroller Plus with iPod...   \n",
       "\n",
       "                                                   review  rating  \\\n",
       "179871  The Thirsties are really an awesome concept th...       5   \n",
       "125408  UPDATE: 2.5 years in and we still love it.  We...       5   \n",
       "60298   This review is going to compare 3 Ju-Ju-Be bag...       5   \n",
       "162687  We are thrilled with this rear seat. This litt...       5   \n",
       "86800   i love this stroller. It took 4 months researc...       5   \n",
       "66059   It's always fun to write a review on those pro...       5   \n",
       "73725   UPDATE 11/20/13 - I went ahead and used a tiny...       4   \n",
       "93170   We have 7 month old twins, and have used it si...       5   \n",
       "172946  Long Review but worth the read for those who a...       5   \n",
       "111120  My husband says one should be skeptical of 5 s...       5   \n",
       "93690   The last thing we wanted was to purchase more ...       5   \n",
       "147949  Amazing, Love, Love, Love it !!! All 5 STARS a...       5   \n",
       "176040  I went back to work full time just six weeks a...       5   \n",
       "137655  If I could give this nursing cover 10 stars I ...       5   \n",
       "127831  My local BRU had only 15 strollers to look at ...       5   \n",
       "119182  Great Pram Rocco!!!!!!I bought this pram from ...       5   \n",
       "69455   We have been using these Dr. Brown's bottles f...       5   \n",
       "76549   The Britax Advocate CS appears similar to the ...       4   \n",
       "158209  (updated 3.22.13) After extensive research, tr...       5   \n",
       "103297  I was very excited when I heard Chicco was fin...       5   \n",
       "41763   After considering several lightweight stroller...       4   \n",
       "\n",
       "                                             review_clean  sentiment  \n",
       "179871  The Thirsties are really an awesome concept th...          1  \n",
       "125408  UPDATE 25 years in and we still love it  We ha...          1  \n",
       "60298   This review is going to compare 3 JuJuBe bags ...          1  \n",
       "162687  We are thrilled with this rear seat This littl...          1  \n",
       "86800   i love this stroller It took 4 months research...          1  \n",
       "66059   Its always fun to write a review on those prod...          1  \n",
       "73725   UPDATE 112013  I went ahead and used a tiny bi...          1  \n",
       "93170   We have 7 month old twins and have used it sin...          1  \n",
       "172946  Long Review but worth the read for those who a...          1  \n",
       "111120  My husband says one should be skeptical of 5 s...          1  \n",
       "93690   The last thing we wanted was to purchase more ...          1  \n",
       "147949  Amazing Love Love Love it  All 5 STARS all the...          1  \n",
       "176040  I went back to work full time just six weeks a...          1  \n",
       "137655  If I could give this nursing cover 10 stars I ...          1  \n",
       "127831  My local BRU had only 15 strollers to look at ...          1  \n",
       "119182  Great Pram RoccoI bought this pram from Europe...          1  \n",
       "69455   We have been using these Dr Browns bottles for...          1  \n",
       "76549   The Britax Advocate CS appears similar to the ...          1  \n",
       "158209  updated 32213 After extensive research trial a...          1  \n",
       "103297  I was very excited when I heard Chicco was fin...          1  \n",
       "41763   After considering several lightweight stroller...          1  "
      ]
     },
     "execution_count": 400,
     "metadata": {},
     "output_type": "execute_result"
    }
   ],
   "source": [
    "test_data.iloc[positive[0:21].index]\n"
   ]
  },
  {
   "cell_type": "code",
   "execution_count": 401,
   "metadata": {},
   "outputs": [
    {
     "data": {
      "text/plain": [
       "Int64Index([31258, 17753, 27612, 33311, 21595,  9998, 26229, 28340, 20948,\n",
       "            28494, 15047, 20217,  4300, 25946, 29824, 24375, 18048, 26300,\n",
       "             7028, 11354],\n",
       "           dtype='int64')"
      ]
     },
     "execution_count": 401,
     "metadata": {},
     "output_type": "execute_result"
    }
   ],
   "source": [
    "positive[0:20].index"
   ]
  },
  {
   "cell_type": "code",
   "execution_count": 402,
   "metadata": {},
   "outputs": [
    {
     "data": {
      "text/html": [
       "<div>\n",
       "<style scoped>\n",
       "    .dataframe tbody tr th:only-of-type {\n",
       "        vertical-align: middle;\n",
       "    }\n",
       "\n",
       "    .dataframe tbody tr th {\n",
       "        vertical-align: top;\n",
       "    }\n",
       "\n",
       "    .dataframe thead th {\n",
       "        text-align: right;\n",
       "    }\n",
       "</style>\n",
       "<table border=\"1\" class=\"dataframe\">\n",
       "  <thead>\n",
       "    <tr style=\"text-align: right;\">\n",
       "      <th></th>\n",
       "      <th>name</th>\n",
       "      <th>review</th>\n",
       "      <th>rating</th>\n",
       "      <th>review_clean</th>\n",
       "      <th>sentiment</th>\n",
       "    </tr>\n",
       "  </thead>\n",
       "  <tbody>\n",
       "    <tr>\n",
       "      <th>120707</th>\n",
       "      <td>The European NANNY Baby Movement Monitor - EU ...</td>\n",
       "      <td>The previous reviewers laud the \"piece of mind...</td>\n",
       "      <td>1</td>\n",
       "      <td>The previous reviewers laud the piece of mind ...</td>\n",
       "      <td>-1</td>\n",
       "    </tr>\n",
       "    <tr>\n",
       "      <th>120219</th>\n",
       "      <td>Levana Safe N'See Digital Video Baby Monitor w...</td>\n",
       "      <td>I have NEVER written a review before for anyth...</td>\n",
       "      <td>1</td>\n",
       "      <td>I have NEVER written a review before for anyth...</td>\n",
       "      <td>-1</td>\n",
       "    </tr>\n",
       "    <tr>\n",
       "      <th>89902</th>\n",
       "      <td>Peg-Perego Aria Twin Stroller, Java</td>\n",
       "      <td>I am so incredibly disappointed with the strol...</td>\n",
       "      <td>1</td>\n",
       "      <td>I am so incredibly disappointed with the strol...</td>\n",
       "      <td>-1</td>\n",
       "    </tr>\n",
       "    <tr>\n",
       "      <th>121755</th>\n",
       "      <td>The First Years Home and Away Portable Video M...</td>\n",
       "      <td>With modern technology, I really can't believe...</td>\n",
       "      <td>1</td>\n",
       "      <td>With modern technology I really cant believe w...</td>\n",
       "      <td>-1</td>\n",
       "    </tr>\n",
       "    <tr>\n",
       "      <th>66359</th>\n",
       "      <td>Levana BABYVIEW20 Interference Free Digital Wi...</td>\n",
       "      <td>where do i even begin? this baby monitor is no...</td>\n",
       "      <td>1</td>\n",
       "      <td>where do i even begin this baby monitor is not...</td>\n",
       "      <td>-1</td>\n",
       "    </tr>\n",
       "    <tr>\n",
       "      <th>134999</th>\n",
       "      <td>Infant Optics DXR-5 2.4 GHz Digital Video Baby...</td>\n",
       "      <td>Let me begin with the fact that the monitor wo...</td>\n",
       "      <td>1</td>\n",
       "      <td>Let me begin with the fact that the monitor wo...</td>\n",
       "      <td>-1</td>\n",
       "    </tr>\n",
       "    <tr>\n",
       "      <th>89904</th>\n",
       "      <td>Peg-Perego Aria Twin Stroller, Java</td>\n",
       "      <td>ahhhh where do I begin.  I had such high hopes...</td>\n",
       "      <td>1</td>\n",
       "      <td>ahhhh where do I begin  I had such high hopes ...</td>\n",
       "      <td>-1</td>\n",
       "    </tr>\n",
       "    <tr>\n",
       "      <th>31741</th>\n",
       "      <td>Regalo My Cot Portable Bed, Royal Blue</td>\n",
       "      <td>If I could give this product zero stars I woul...</td>\n",
       "      <td>1</td>\n",
       "      <td>If I could give this product zero stars I woul...</td>\n",
       "      <td>-1</td>\n",
       "    </tr>\n",
       "    <tr>\n",
       "      <th>3746</th>\n",
       "      <td>Playtex Diaper Genie - First Refill Included</td>\n",
       "      <td>Prior to parenthood, I had heard several paren...</td>\n",
       "      <td>1</td>\n",
       "      <td>Prior to parenthood I had heard several parent...</td>\n",
       "      <td>-1</td>\n",
       "    </tr>\n",
       "    <tr>\n",
       "      <th>172090</th>\n",
       "      <td>Belkin WeMo Wi-Fi Baby Monitor for Apple iPhon...</td>\n",
       "      <td>I read so many reviews saying the Belkin WiFi ...</td>\n",
       "      <td>2</td>\n",
       "      <td>I read so many reviews saying the Belkin WiFi ...</td>\n",
       "      <td>-1</td>\n",
       "    </tr>\n",
       "    <tr>\n",
       "      <th>78811</th>\n",
       "      <td>Tike Tech Single City X4 Swivel Stroller, Paci...</td>\n",
       "      <td>I initially thought this was a very sturdy, lo...</td>\n",
       "      <td>2</td>\n",
       "      <td>I initially thought this was a very sturdy lon...</td>\n",
       "      <td>-1</td>\n",
       "    </tr>\n",
       "    <tr>\n",
       "      <th>62053</th>\n",
       "      <td>Playtex Diaper Genie Elite Diaper Disposal Pai...</td>\n",
       "      <td>What can I say, I was sucked in by the hype li...</td>\n",
       "      <td>1</td>\n",
       "      <td>What can I say I was sucked in by the hype lik...</td>\n",
       "      <td>-1</td>\n",
       "    </tr>\n",
       "    <tr>\n",
       "      <th>105641</th>\n",
       "      <td>Fisher-Price Surround Lights &amp;amp; Sounds Moni...</td>\n",
       "      <td>I wish I could give this horrible, horrible pr...</td>\n",
       "      <td>1</td>\n",
       "      <td>I wish I could give this horrible horrible pro...</td>\n",
       "      <td>-1</td>\n",
       "    </tr>\n",
       "    <tr>\n",
       "      <th>149987</th>\n",
       "      <td>NUK Cook-n-Blend Baby Food Maker</td>\n",
       "      <td>It thought this would be great. I did a lot of...</td>\n",
       "      <td>1</td>\n",
       "      <td>It thought this would be great I did a lot of ...</td>\n",
       "      <td>-1</td>\n",
       "    </tr>\n",
       "    <tr>\n",
       "      <th>116903</th>\n",
       "      <td>Summer Infant Snuzzler, Ivory</td>\n",
       "      <td>We registered for this item after reading the ...</td>\n",
       "      <td>1</td>\n",
       "      <td>We registered for this item after reading the ...</td>\n",
       "      <td>-1</td>\n",
       "    </tr>\n",
       "    <tr>\n",
       "      <th>13383</th>\n",
       "      <td>North States Superyard Play Yard, Grey, 6 Panel</td>\n",
       "      <td>We were so disappointed with this enclosure sy...</td>\n",
       "      <td>1</td>\n",
       "      <td>We were so disappointed with this enclosure sy...</td>\n",
       "      <td>-1</td>\n",
       "    </tr>\n",
       "    <tr>\n",
       "      <th>134644</th>\n",
       "      <td>Infant Optics DXR-5 2.4 GHz Digital Video Baby...</td>\n",
       "      <td>I am shocked at how many good reviews there ar...</td>\n",
       "      <td>1</td>\n",
       "      <td>I am shocked at how many good reviews there ar...</td>\n",
       "      <td>-1</td>\n",
       "    </tr>\n",
       "    <tr>\n",
       "      <th>41532</th>\n",
       "      <td>Philips Avent Digital Two-Parent Baby Monitor ...</td>\n",
       "      <td>Up-front summary: This attractive product has ...</td>\n",
       "      <td>4</td>\n",
       "      <td>Upfront summary This attractive product has ni...</td>\n",
       "      <td>1</td>\n",
       "    </tr>\n",
       "    <tr>\n",
       "      <th>87326</th>\n",
       "      <td>Sunshine Kids Radian XTSL Convertible Car Seat...</td>\n",
       "      <td>Sunshine Kids RadianXTSL Convertible Car Seat ...</td>\n",
       "      <td>1</td>\n",
       "      <td>Sunshine Kids RadianXTSL Convertible Car Seat ...</td>\n",
       "      <td>-1</td>\n",
       "    </tr>\n",
       "    <tr>\n",
       "      <th>1116</th>\n",
       "      <td>Safety 1st Deluxe 4-in-1 Bath Station</td>\n",
       "      <td>This item is junk.  I originally chose it beca...</td>\n",
       "      <td>1</td>\n",
       "      <td>This item is junk  I originally chose it becau...</td>\n",
       "      <td>-1</td>\n",
       "    </tr>\n",
       "    <tr>\n",
       "      <th>127473</th>\n",
       "      <td>Argington Organic Bam Bam Crib Complete, Ebony</td>\n",
       "      <td>What a disappointment! After researching for c...</td>\n",
       "      <td>1</td>\n",
       "      <td>What a disappointment After researching for co...</td>\n",
       "      <td>-1</td>\n",
       "    </tr>\n",
       "  </tbody>\n",
       "</table>\n",
       "</div>"
      ],
      "text/plain": [
       "                                                     name  \\\n",
       "120707  The European NANNY Baby Movement Monitor - EU ...   \n",
       "120219  Levana Safe N'See Digital Video Baby Monitor w...   \n",
       "89902                 Peg-Perego Aria Twin Stroller, Java   \n",
       "121755  The First Years Home and Away Portable Video M...   \n",
       "66359   Levana BABYVIEW20 Interference Free Digital Wi...   \n",
       "134999  Infant Optics DXR-5 2.4 GHz Digital Video Baby...   \n",
       "89904                 Peg-Perego Aria Twin Stroller, Java   \n",
       "31741              Regalo My Cot Portable Bed, Royal Blue   \n",
       "3746         Playtex Diaper Genie - First Refill Included   \n",
       "172090  Belkin WeMo Wi-Fi Baby Monitor for Apple iPhon...   \n",
       "78811   Tike Tech Single City X4 Swivel Stroller, Paci...   \n",
       "62053   Playtex Diaper Genie Elite Diaper Disposal Pai...   \n",
       "105641  Fisher-Price Surround Lights &amp; Sounds Moni...   \n",
       "149987                   NUK Cook-n-Blend Baby Food Maker   \n",
       "116903                      Summer Infant Snuzzler, Ivory   \n",
       "13383     North States Superyard Play Yard, Grey, 6 Panel   \n",
       "134644  Infant Optics DXR-5 2.4 GHz Digital Video Baby...   \n",
       "41532   Philips Avent Digital Two-Parent Baby Monitor ...   \n",
       "87326   Sunshine Kids Radian XTSL Convertible Car Seat...   \n",
       "1116                Safety 1st Deluxe 4-in-1 Bath Station   \n",
       "127473     Argington Organic Bam Bam Crib Complete, Ebony   \n",
       "\n",
       "                                                   review  rating  \\\n",
       "120707  The previous reviewers laud the \"piece of mind...       1   \n",
       "120219  I have NEVER written a review before for anyth...       1   \n",
       "89902   I am so incredibly disappointed with the strol...       1   \n",
       "121755  With modern technology, I really can't believe...       1   \n",
       "66359   where do i even begin? this baby monitor is no...       1   \n",
       "134999  Let me begin with the fact that the monitor wo...       1   \n",
       "89904   ahhhh where do I begin.  I had such high hopes...       1   \n",
       "31741   If I could give this product zero stars I woul...       1   \n",
       "3746    Prior to parenthood, I had heard several paren...       1   \n",
       "172090  I read so many reviews saying the Belkin WiFi ...       2   \n",
       "78811   I initially thought this was a very sturdy, lo...       2   \n",
       "62053   What can I say, I was sucked in by the hype li...       1   \n",
       "105641  I wish I could give this horrible, horrible pr...       1   \n",
       "149987  It thought this would be great. I did a lot of...       1   \n",
       "116903  We registered for this item after reading the ...       1   \n",
       "13383   We were so disappointed with this enclosure sy...       1   \n",
       "134644  I am shocked at how many good reviews there ar...       1   \n",
       "41532   Up-front summary: This attractive product has ...       4   \n",
       "87326   Sunshine Kids RadianXTSL Convertible Car Seat ...       1   \n",
       "1116    This item is junk.  I originally chose it beca...       1   \n",
       "127473  What a disappointment! After researching for c...       1   \n",
       "\n",
       "                                             review_clean  sentiment  \n",
       "120707  The previous reviewers laud the piece of mind ...         -1  \n",
       "120219  I have NEVER written a review before for anyth...         -1  \n",
       "89902   I am so incredibly disappointed with the strol...         -1  \n",
       "121755  With modern technology I really cant believe w...         -1  \n",
       "66359   where do i even begin this baby monitor is not...         -1  \n",
       "134999  Let me begin with the fact that the monitor wo...         -1  \n",
       "89904   ahhhh where do I begin  I had such high hopes ...         -1  \n",
       "31741   If I could give this product zero stars I woul...         -1  \n",
       "3746    Prior to parenthood I had heard several parent...         -1  \n",
       "172090  I read so many reviews saying the Belkin WiFi ...         -1  \n",
       "78811   I initially thought this was a very sturdy lon...         -1  \n",
       "62053   What can I say I was sucked in by the hype lik...         -1  \n",
       "105641  I wish I could give this horrible horrible pro...         -1  \n",
       "149987  It thought this would be great I did a lot of ...         -1  \n",
       "116903  We registered for this item after reading the ...         -1  \n",
       "13383   We were so disappointed with this enclosure sy...         -1  \n",
       "134644  I am shocked at how many good reviews there ar...         -1  \n",
       "41532   Upfront summary This attractive product has ni...          1  \n",
       "87326   Sunshine Kids RadianXTSL Convertible Car Seat ...         -1  \n",
       "1116    This item is junk  I originally chose it becau...         -1  \n",
       "127473  What a disappointment After researching for co...         -1  "
      ]
     },
     "execution_count": 402,
     "metadata": {},
     "output_type": "execute_result"
    }
   ],
   "source": [
    "test_data.iloc[negative[0:21].index]"
   ]
  },
  {
   "cell_type": "code",
   "execution_count": 403,
   "metadata": {},
   "outputs": [],
   "source": [
    "sentiment_model_coef_table = pd.DataFrame({'coefficient':sentiment_model.coef_.flatten()})"
   ]
  },
  {
   "cell_type": "code",
   "execution_count": 404,
   "metadata": {},
   "outputs": [
    {
     "data": {
      "text/html": [
       "<div>\n",
       "<style scoped>\n",
       "    .dataframe tbody tr th:only-of-type {\n",
       "        vertical-align: middle;\n",
       "    }\n",
       "\n",
       "    .dataframe tbody tr th {\n",
       "        vertical-align: top;\n",
       "    }\n",
       "\n",
       "    .dataframe thead th {\n",
       "        text-align: right;\n",
       "    }\n",
       "</style>\n",
       "<table border=\"1\" class=\"dataframe\">\n",
       "  <thead>\n",
       "    <tr style=\"text-align: right;\">\n",
       "      <th></th>\n",
       "      <th>coefficient</th>\n",
       "    </tr>\n",
       "  </thead>\n",
       "  <tbody>\n",
       "    <tr>\n",
       "      <th>0</th>\n",
       "      <td>-1.246941e+00</td>\n",
       "    </tr>\n",
       "    <tr>\n",
       "      <th>1</th>\n",
       "      <td>8.203510e-04</td>\n",
       "    </tr>\n",
       "    <tr>\n",
       "      <th>2</th>\n",
       "      <td>-6.805561e-03</td>\n",
       "    </tr>\n",
       "    <tr>\n",
       "      <th>3</th>\n",
       "      <td>3.308026e-03</td>\n",
       "    </tr>\n",
       "    <tr>\n",
       "      <th>4</th>\n",
       "      <td>4.464479e-05</td>\n",
       "    </tr>\n",
       "    <tr>\n",
       "      <th>5</th>\n",
       "      <td>1.448229e-06</td>\n",
       "    </tr>\n",
       "    <tr>\n",
       "      <th>6</th>\n",
       "      <td>3.204435e-03</td>\n",
       "    </tr>\n",
       "    <tr>\n",
       "      <th>7</th>\n",
       "      <td>2.434166e-01</td>\n",
       "    </tr>\n",
       "    <tr>\n",
       "      <th>8</th>\n",
       "      <td>-1.641002e-03</td>\n",
       "    </tr>\n",
       "    <tr>\n",
       "      <th>9</th>\n",
       "      <td>2.291315e-02</td>\n",
       "    </tr>\n",
       "    <tr>\n",
       "      <th>10</th>\n",
       "      <td>-2.723486e-04</td>\n",
       "    </tr>\n",
       "    <tr>\n",
       "      <th>11</th>\n",
       "      <td>8.898643e-01</td>\n",
       "    </tr>\n",
       "    <tr>\n",
       "      <th>12</th>\n",
       "      <td>-4.624250e-04</td>\n",
       "    </tr>\n",
       "    <tr>\n",
       "      <th>13</th>\n",
       "      <td>7.075168e-06</td>\n",
       "    </tr>\n",
       "    <tr>\n",
       "      <th>14</th>\n",
       "      <td>3.919097e-05</td>\n",
       "    </tr>\n",
       "    <tr>\n",
       "      <th>15</th>\n",
       "      <td>-7.966634e-03</td>\n",
       "    </tr>\n",
       "    <tr>\n",
       "      <th>16</th>\n",
       "      <td>4.599945e-02</td>\n",
       "    </tr>\n",
       "    <tr>\n",
       "      <th>17</th>\n",
       "      <td>-6.045604e-03</td>\n",
       "    </tr>\n",
       "    <tr>\n",
       "      <th>18</th>\n",
       "      <td>3.373271e-05</td>\n",
       "    </tr>\n",
       "    <tr>\n",
       "      <th>19</th>\n",
       "      <td>-9.368360e-02</td>\n",
       "    </tr>\n",
       "    <tr>\n",
       "      <th>20</th>\n",
       "      <td>-1.021255e-01</td>\n",
       "    </tr>\n",
       "    <tr>\n",
       "      <th>21</th>\n",
       "      <td>1.410537e-02</td>\n",
       "    </tr>\n",
       "    <tr>\n",
       "      <th>22</th>\n",
       "      <td>1.012153e-01</td>\n",
       "    </tr>\n",
       "    <tr>\n",
       "      <th>23</th>\n",
       "      <td>1.444939e-02</td>\n",
       "    </tr>\n",
       "    <tr>\n",
       "      <th>24</th>\n",
       "      <td>1.405156e-01</td>\n",
       "    </tr>\n",
       "    <tr>\n",
       "      <th>25</th>\n",
       "      <td>-1.173907e-02</td>\n",
       "    </tr>\n",
       "    <tr>\n",
       "      <th>26</th>\n",
       "      <td>-1.179729e-02</td>\n",
       "    </tr>\n",
       "    <tr>\n",
       "      <th>27</th>\n",
       "      <td>2.167887e-05</td>\n",
       "    </tr>\n",
       "    <tr>\n",
       "      <th>28</th>\n",
       "      <td>2.167887e-05</td>\n",
       "    </tr>\n",
       "    <tr>\n",
       "      <th>29</th>\n",
       "      <td>2.167887e-05</td>\n",
       "    </tr>\n",
       "    <tr>\n",
       "      <th>...</th>\n",
       "      <td>...</td>\n",
       "    </tr>\n",
       "    <tr>\n",
       "      <th>121504</th>\n",
       "      <td>8.702636e-04</td>\n",
       "    </tr>\n",
       "    <tr>\n",
       "      <th>121505</th>\n",
       "      <td>1.577844e-01</td>\n",
       "    </tr>\n",
       "    <tr>\n",
       "      <th>121506</th>\n",
       "      <td>9.432540e-03</td>\n",
       "    </tr>\n",
       "    <tr>\n",
       "      <th>121507</th>\n",
       "      <td>1.011625e-01</td>\n",
       "    </tr>\n",
       "    <tr>\n",
       "      <th>121508</th>\n",
       "      <td>2.409880e-03</td>\n",
       "    </tr>\n",
       "    <tr>\n",
       "      <th>121509</th>\n",
       "      <td>1.154023e-02</td>\n",
       "    </tr>\n",
       "    <tr>\n",
       "      <th>121510</th>\n",
       "      <td>-5.278609e-02</td>\n",
       "    </tr>\n",
       "    <tr>\n",
       "      <th>121511</th>\n",
       "      <td>2.045814e-04</td>\n",
       "    </tr>\n",
       "    <tr>\n",
       "      <th>121512</th>\n",
       "      <td>-5.362105e-01</td>\n",
       "    </tr>\n",
       "    <tr>\n",
       "      <th>121513</th>\n",
       "      <td>3.360201e-05</td>\n",
       "    </tr>\n",
       "    <tr>\n",
       "      <th>121514</th>\n",
       "      <td>-8.900981e-02</td>\n",
       "    </tr>\n",
       "    <tr>\n",
       "      <th>121515</th>\n",
       "      <td>4.147812e-02</td>\n",
       "    </tr>\n",
       "    <tr>\n",
       "      <th>121516</th>\n",
       "      <td>6.520176e-04</td>\n",
       "    </tr>\n",
       "    <tr>\n",
       "      <th>121517</th>\n",
       "      <td>-1.792193e-01</td>\n",
       "    </tr>\n",
       "    <tr>\n",
       "      <th>121518</th>\n",
       "      <td>-5.189512e-03</td>\n",
       "    </tr>\n",
       "    <tr>\n",
       "      <th>121519</th>\n",
       "      <td>-3.822068e-01</td>\n",
       "    </tr>\n",
       "    <tr>\n",
       "      <th>121520</th>\n",
       "      <td>6.602831e-02</td>\n",
       "    </tr>\n",
       "    <tr>\n",
       "      <th>121521</th>\n",
       "      <td>1.269840e-01</td>\n",
       "    </tr>\n",
       "    <tr>\n",
       "      <th>121522</th>\n",
       "      <td>5.756852e-06</td>\n",
       "    </tr>\n",
       "    <tr>\n",
       "      <th>121523</th>\n",
       "      <td>4.167484e-02</td>\n",
       "    </tr>\n",
       "    <tr>\n",
       "      <th>121524</th>\n",
       "      <td>3.433898e-02</td>\n",
       "    </tr>\n",
       "    <tr>\n",
       "      <th>121525</th>\n",
       "      <td>3.479473e-07</td>\n",
       "    </tr>\n",
       "    <tr>\n",
       "      <th>121526</th>\n",
       "      <td>1.349721e-03</td>\n",
       "    </tr>\n",
       "    <tr>\n",
       "      <th>121527</th>\n",
       "      <td>1.093171e-02</td>\n",
       "    </tr>\n",
       "    <tr>\n",
       "      <th>121528</th>\n",
       "      <td>-1.674758e-02</td>\n",
       "    </tr>\n",
       "    <tr>\n",
       "      <th>121529</th>\n",
       "      <td>4.131037e-03</td>\n",
       "    </tr>\n",
       "    <tr>\n",
       "      <th>121530</th>\n",
       "      <td>2.533416e-05</td>\n",
       "    </tr>\n",
       "    <tr>\n",
       "      <th>121531</th>\n",
       "      <td>1.040133e-02</td>\n",
       "    </tr>\n",
       "    <tr>\n",
       "      <th>121532</th>\n",
       "      <td>8.832199e-03</td>\n",
       "    </tr>\n",
       "    <tr>\n",
       "      <th>121533</th>\n",
       "      <td>-5.892072e-05</td>\n",
       "    </tr>\n",
       "  </tbody>\n",
       "</table>\n",
       "<p>121534 rows × 1 columns</p>\n",
       "</div>"
      ],
      "text/plain": [
       "         coefficient\n",
       "0      -1.246941e+00\n",
       "1       8.203510e-04\n",
       "2      -6.805561e-03\n",
       "3       3.308026e-03\n",
       "4       4.464479e-05\n",
       "5       1.448229e-06\n",
       "6       3.204435e-03\n",
       "7       2.434166e-01\n",
       "8      -1.641002e-03\n",
       "9       2.291315e-02\n",
       "10     -2.723486e-04\n",
       "11      8.898643e-01\n",
       "12     -4.624250e-04\n",
       "13      7.075168e-06\n",
       "14      3.919097e-05\n",
       "15     -7.966634e-03\n",
       "16      4.599945e-02\n",
       "17     -6.045604e-03\n",
       "18      3.373271e-05\n",
       "19     -9.368360e-02\n",
       "20     -1.021255e-01\n",
       "21      1.410537e-02\n",
       "22      1.012153e-01\n",
       "23      1.444939e-02\n",
       "24      1.405156e-01\n",
       "25     -1.173907e-02\n",
       "26     -1.179729e-02\n",
       "27      2.167887e-05\n",
       "28      2.167887e-05\n",
       "29      2.167887e-05\n",
       "...              ...\n",
       "121504  8.702636e-04\n",
       "121505  1.577844e-01\n",
       "121506  9.432540e-03\n",
       "121507  1.011625e-01\n",
       "121508  2.409880e-03\n",
       "121509  1.154023e-02\n",
       "121510 -5.278609e-02\n",
       "121511  2.045814e-04\n",
       "121512 -5.362105e-01\n",
       "121513  3.360201e-05\n",
       "121514 -8.900981e-02\n",
       "121515  4.147812e-02\n",
       "121516  6.520176e-04\n",
       "121517 -1.792193e-01\n",
       "121518 -5.189512e-03\n",
       "121519 -3.822068e-01\n",
       "121520  6.602831e-02\n",
       "121521  1.269840e-01\n",
       "121522  5.756852e-06\n",
       "121523  4.167484e-02\n",
       "121524  3.433898e-02\n",
       "121525  3.479473e-07\n",
       "121526  1.349721e-03\n",
       "121527  1.093171e-02\n",
       "121528 -1.674758e-02\n",
       "121529  4.131037e-03\n",
       "121530  2.533416e-05\n",
       "121531  1.040133e-02\n",
       "121532  8.832199e-03\n",
       "121533 -5.892072e-05\n",
       "\n",
       "[121534 rows x 1 columns]"
      ]
     },
     "execution_count": 404,
     "metadata": {},
     "output_type": "execute_result"
    }
   ],
   "source": [
    "sentiment_model_coef_table"
   ]
  },
  {
   "cell_type": "code",
   "execution_count": null,
   "metadata": {},
   "outputs": [],
   "source": []
  },
  {
   "cell_type": "code",
   "execution_count": null,
   "metadata": {},
   "outputs": [],
   "source": []
  },
  {
   "cell_type": "code",
   "execution_count": null,
   "metadata": {},
   "outputs": [],
   "source": []
  }
 ],
 "metadata": {
  "kernelspec": {
   "display_name": "Python 3",
   "language": "python",
   "name": "python3"
  },
  "language_info": {
   "codemirror_mode": {
    "name": "ipython",
    "version": 3
   },
   "file_extension": ".py",
   "mimetype": "text/x-python",
   "name": "python",
   "nbconvert_exporter": "python",
   "pygments_lexer": "ipython3",
   "version": "3.6.6"
  }
 },
 "nbformat": 4,
 "nbformat_minor": 2
}
